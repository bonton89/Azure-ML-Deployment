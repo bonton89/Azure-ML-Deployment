{
 "cells": [
  {
   "cell_type": "markdown",
   "id": "678bfedd",
   "metadata": {},
   "source": [
    "### Access Workspace"
   ]
  },
  {
   "cell_type": "code",
   "execution_count": 1,
   "id": "b7a026ab",
   "metadata": {},
   "outputs": [],
   "source": [
    "from azureml.core import Workspace\n",
    "\n",
    "# Access the Workspace`\n",
    "ws = Workspace.from_config(\"./config\")"
   ]
  },
  {
   "cell_type": "markdown",
   "id": "63743811",
   "metadata": {},
   "source": [
    "### Create custom environment"
   ]
  },
  {
   "cell_type": "code",
   "execution_count": 33,
   "id": "f03704c2",
   "metadata": {},
   "outputs": [
    {
     "data": {
      "text/plain": [
       "{\n",
       "    \"databricks\": {\n",
       "        \"eggLibraries\": [],\n",
       "        \"jarLibraries\": [],\n",
       "        \"mavenLibraries\": [],\n",
       "        \"pypiLibraries\": [],\n",
       "        \"rcranLibraries\": []\n",
       "    },\n",
       "    \"docker\": {\n",
       "        \"arguments\": [],\n",
       "        \"baseDockerfile\": null,\n",
       "        \"baseImage\": \"mcr.microsoft.com/azureml/openmpi3.1.2-ubuntu18.04:20211124.v1\",\n",
       "        \"baseImageRegistry\": {\n",
       "            \"address\": null,\n",
       "            \"password\": null,\n",
       "            \"registryIdentity\": null,\n",
       "            \"username\": null\n",
       "        },\n",
       "        \"enabled\": false,\n",
       "        \"platform\": {\n",
       "            \"architecture\": \"amd64\",\n",
       "            \"os\": \"Linux\"\n",
       "        },\n",
       "        \"sharedVolumes\": true,\n",
       "        \"shmSize\": null\n",
       "    },\n",
       "    \"environmentVariables\": {\n",
       "        \"EXAMPLE_ENV_VAR\": \"EXAMPLE_VALUE\"\n",
       "    },\n",
       "    \"inferencingStackVersion\": null,\n",
       "    \"name\": \"MyEnvironment\",\n",
       "    \"python\": {\n",
       "        \"baseCondaEnvironment\": null,\n",
       "        \"condaDependencies\": {\n",
       "            \"channels\": [\n",
       "                \"anaconda\",\n",
       "                \"conda-forge\"\n",
       "            ],\n",
       "            \"dependencies\": [\n",
       "                \"python=3.6.2\",\n",
       "                {\n",
       "                    \"pip\": [\n",
       "                        \"azureml-defaults~=1.37.0\"\n",
       "                    ]\n",
       "                },\n",
       "                \"scikit-learn\",\n",
       "                \"pandas\",\n",
       "                \"azureml-defaults\",\n",
       "                \"joblib\"\n",
       "            ],\n",
       "            \"name\": \"azureml_2745e454d4084a05c90e253dd0103f35\"\n",
       "        },\n",
       "        \"condaDependenciesFile\": null,\n",
       "        \"interpreterPath\": \"python\",\n",
       "        \"userManagedDependencies\": false\n",
       "    },\n",
       "    \"r\": null,\n",
       "    \"spark\": {\n",
       "        \"packages\": [],\n",
       "        \"precachePackages\": true,\n",
       "        \"repositories\": []\n",
       "    },\n",
       "    \"version\": \"6\"\n",
       "}"
      ]
     },
     "execution_count": 33,
     "metadata": {},
     "output_type": "execute_result"
    }
   ],
   "source": [
    "from azureml.core import Environment\n",
    "from azureml.core.environment import CondaDependencies\n",
    "\n",
    "# Create the environment\n",
    "myenv = Environment(name=\"MyEnvironment\")\n",
    "\n",
    "# Create the dependencies object\n",
    "myenv_dep = CondaDependencies.create(conda_packages=['scikit-learn','pandas','azureml-defaults','joblib'])\n",
    "\n",
    "myenv.python.conda_dependencies = myenv_dep\n",
    "\n",
    "# Register the environment\n",
    "myenv.register(ws)"
   ]
  },
  {
   "cell_type": "markdown",
   "id": "25296c18",
   "metadata": {},
   "source": [
    "### Create a compute cluster for pipeline"
   ]
  },
  {
   "cell_type": "code",
   "execution_count": 3,
   "id": "e9aa8a98",
   "metadata": {},
   "outputs": [
    {
     "name": "stdout",
     "output_type": "stream",
     "text": [
      "Provisioning operation finished, operation \"Succeeded\"\n"
     ]
    }
   ],
   "source": [
    "cluster_name = \"pipeline-cluster\"\n",
    "\n",
    "from azureml.core.compute import AmlCompute\n",
    "compute_config = AmlCompute.provisioning_configuration(\n",
    "                                    vm_size='STANDARD_D11_V2', \n",
    "                                    max_nodes=2)\n",
    "\n",
    "\n",
    "from azureml.core.compute import ComputeTarget\n",
    "compute_cluster = ComputeTarget.create(ws, cluster_name, compute_config)\n",
    "\n",
    "compute_cluster.wait_for_completion()"
   ]
  },
  {
   "cell_type": "markdown",
   "id": "214c0d0d",
   "metadata": {},
   "source": [
    "### Create Run Configurations for the steps"
   ]
  },
  {
   "cell_type": "code",
   "execution_count": 4,
   "id": "3dc92b0b",
   "metadata": {},
   "outputs": [],
   "source": [
    "from azureml.core.runconfig import RunConfiguration\n",
    "run_config = RunConfiguration()\n",
    "\n",
    "run_config.target = compute_cluster\n",
    "run_config.environment = myenv"
   ]
  },
  {
   "cell_type": "markdown",
   "id": "fce640f0",
   "metadata": {},
   "source": [
    "### Create the experiment"
   ]
  },
  {
   "cell_type": "code",
   "execution_count": 5,
   "id": "472943e8",
   "metadata": {},
   "outputs": [],
   "source": [
    "from azureml.core import Experiment\n",
    "experiment = Experiment(workspace=ws, name='PipelineExp01')"
   ]
  },
  {
   "cell_type": "markdown",
   "id": "43c685f8",
   "metadata": {},
   "source": [
    "### Access Datastore and Dataset"
   ]
  },
  {
   "cell_type": "code",
   "execution_count": 6,
   "id": "0e2c671e",
   "metadata": {},
   "outputs": [],
   "source": [
    "from azureml.core import Datastore, Dataset"
   ]
  },
  {
   "cell_type": "code",
   "execution_count": 7,
   "id": "124c8c69",
   "metadata": {},
   "outputs": [],
   "source": [
    "az_store = Datastore.get(ws, \"azuremlds01\")"
   ]
  },
  {
   "cell_type": "code",
   "execution_count": 8,
   "id": "c1f871f7",
   "metadata": {},
   "outputs": [],
   "source": [
    "# Path for data\n",
    "csv_path = [(az_store, \"Loan+Approval+Prediction.csv\")]\n",
    "loan_dataset = Dataset.Tabular.from_delimited_files(path=csv_path)\n",
    "# Register the dataset\n",
    "loan_dataset = loan_dataset.register(workspace=ws,\n",
    "                                     name=\"Loan Applications Using SDK\",\n",
    "                                     create_new_version=True)\n",
    "\n",
    "df = loan_dataset.to_pandas_dataframe()"
   ]
  },
  {
   "cell_type": "markdown",
   "id": "fc1e5e77",
   "metadata": {},
   "source": [
    "### Data Preparation"
   ]
  },
  {
   "cell_type": "code",
   "execution_count": 9,
   "id": "1fe0a5e6",
   "metadata": {},
   "outputs": [],
   "source": [
    "import os\n",
    "import sys\n",
    "sys.path.append(\".\")\n",
    "from Model_Preparation import clean_missing_data,preprocessing,train\n",
    "from azureml.core import Run\n",
    "import os\n",
    "import argparse\n",
    "import joblib\n",
    "import json"
   ]
  },
  {
   "cell_type": "code",
   "execution_count": 10,
   "id": "3d7fdda1",
   "metadata": {},
   "outputs": [],
   "source": [
    "import sys\n",
    "sys.argv=['']\n",
    "del sys"
   ]
  },
  {
   "cell_type": "code",
   "execution_count": 11,
   "id": "9ad7f3eb",
   "metadata": {},
   "outputs": [
    {
     "name": "stdout",
     "output_type": "stream",
     "text": [
      "Argument [model_folder]: model\n",
      "Argument [model_name]: RandomForest.pkl\n"
     ]
    }
   ],
   "source": [
    "parser = argparse.ArgumentParser(\"train\")\n",
    "\n",
    "parser.add_argument('--model_folder', type=str, dest='model_folder', default=\"model\", help='model location')\n",
    "parser.add_argument(\"--model_name\",type=str,help=\"Name of the Model\",default=\"RandomForest.pkl\",)\n",
    "\n",
    "args = parser.parse_args()\n",
    "\n",
    "print(\"Argument [model_folder]: %s\" % args.model_folder)\n",
    "print(\"Argument [model_name]: %s\" % args.model_name)\n",
    "model_folder = args.model_folder\n",
    "model_name = args.model_name\n"
   ]
  },
  {
   "cell_type": "code",
   "execution_count": 12,
   "id": "07eeed9d",
   "metadata": {},
   "outputs": [],
   "source": [
    "run = Run.get_context()"
   ]
  },
  {
   "cell_type": "code",
   "execution_count": 13,
   "id": "ce4be2de",
   "metadata": {},
   "outputs": [
    {
     "data": {
      "text/html": [
       "<div>\n",
       "<style scoped>\n",
       "    .dataframe tbody tr th:only-of-type {\n",
       "        vertical-align: middle;\n",
       "    }\n",
       "\n",
       "    .dataframe tbody tr th {\n",
       "        vertical-align: top;\n",
       "    }\n",
       "\n",
       "    .dataframe thead th {\n",
       "        text-align: right;\n",
       "    }\n",
       "</style>\n",
       "<table border=\"1\" class=\"dataframe\">\n",
       "  <thead>\n",
       "    <tr style=\"text-align: right;\">\n",
       "      <th></th>\n",
       "      <th>Loan_ID</th>\n",
       "      <th>Gender</th>\n",
       "      <th>Married</th>\n",
       "      <th>Dependents</th>\n",
       "      <th>Education</th>\n",
       "      <th>Self_Employed</th>\n",
       "      <th>ApplicantIncome</th>\n",
       "      <th>CoapplicantIncome</th>\n",
       "      <th>LoanAmount</th>\n",
       "      <th>Loan_Amount_Term</th>\n",
       "      <th>Credit_History</th>\n",
       "      <th>Property_Area</th>\n",
       "      <th>Loan_Status</th>\n",
       "    </tr>\n",
       "  </thead>\n",
       "  <tbody>\n",
       "    <tr>\n",
       "      <th>0</th>\n",
       "      <td>LP001002</td>\n",
       "      <td>Male</td>\n",
       "      <td>False</td>\n",
       "      <td>0</td>\n",
       "      <td>Graduate</td>\n",
       "      <td>False</td>\n",
       "      <td>5849</td>\n",
       "      <td>0.0</td>\n",
       "      <td>NaN</td>\n",
       "      <td>360.0</td>\n",
       "      <td>1.0</td>\n",
       "      <td>Urban</td>\n",
       "      <td>True</td>\n",
       "    </tr>\n",
       "    <tr>\n",
       "      <th>1</th>\n",
       "      <td>LP001003</td>\n",
       "      <td>Male</td>\n",
       "      <td>True</td>\n",
       "      <td>1</td>\n",
       "      <td>Graduate</td>\n",
       "      <td>False</td>\n",
       "      <td>4583</td>\n",
       "      <td>1508.0</td>\n",
       "      <td>128.0</td>\n",
       "      <td>360.0</td>\n",
       "      <td>1.0</td>\n",
       "      <td>Rural</td>\n",
       "      <td>False</td>\n",
       "    </tr>\n",
       "    <tr>\n",
       "      <th>2</th>\n",
       "      <td>LP001005</td>\n",
       "      <td>Male</td>\n",
       "      <td>True</td>\n",
       "      <td>0</td>\n",
       "      <td>Graduate</td>\n",
       "      <td>True</td>\n",
       "      <td>3000</td>\n",
       "      <td>0.0</td>\n",
       "      <td>66.0</td>\n",
       "      <td>360.0</td>\n",
       "      <td>1.0</td>\n",
       "      <td>Urban</td>\n",
       "      <td>True</td>\n",
       "    </tr>\n",
       "    <tr>\n",
       "      <th>3</th>\n",
       "      <td>LP001006</td>\n",
       "      <td>Male</td>\n",
       "      <td>True</td>\n",
       "      <td>0</td>\n",
       "      <td>Not Graduate</td>\n",
       "      <td>False</td>\n",
       "      <td>2583</td>\n",
       "      <td>2358.0</td>\n",
       "      <td>120.0</td>\n",
       "      <td>360.0</td>\n",
       "      <td>1.0</td>\n",
       "      <td>Urban</td>\n",
       "      <td>True</td>\n",
       "    </tr>\n",
       "    <tr>\n",
       "      <th>4</th>\n",
       "      <td>LP001008</td>\n",
       "      <td>Male</td>\n",
       "      <td>False</td>\n",
       "      <td>0</td>\n",
       "      <td>Graduate</td>\n",
       "      <td>False</td>\n",
       "      <td>6000</td>\n",
       "      <td>0.0</td>\n",
       "      <td>141.0</td>\n",
       "      <td>360.0</td>\n",
       "      <td>1.0</td>\n",
       "      <td>Urban</td>\n",
       "      <td>True</td>\n",
       "    </tr>\n",
       "  </tbody>\n",
       "</table>\n",
       "</div>"
      ],
      "text/plain": [
       "    Loan_ID Gender Married Dependents     Education Self_Employed  \\\n",
       "0  LP001002   Male   False          0      Graduate         False   \n",
       "1  LP001003   Male    True          1      Graduate         False   \n",
       "2  LP001005   Male    True          0      Graduate          True   \n",
       "3  LP001006   Male    True          0  Not Graduate         False   \n",
       "4  LP001008   Male   False          0      Graduate         False   \n",
       "\n",
       "   ApplicantIncome  CoapplicantIncome  LoanAmount  Loan_Amount_Term  \\\n",
       "0             5849                0.0         NaN             360.0   \n",
       "1             4583             1508.0       128.0             360.0   \n",
       "2             3000                0.0        66.0             360.0   \n",
       "3             2583             2358.0       120.0             360.0   \n",
       "4             6000                0.0       141.0             360.0   \n",
       "\n",
       "   Credit_History Property_Area  Loan_Status  \n",
       "0             1.0         Urban         True  \n",
       "1             1.0         Rural        False  \n",
       "2             1.0         Urban         True  \n",
       "3             1.0         Urban         True  \n",
       "4             1.0         Urban         True  "
      ]
     },
     "execution_count": 13,
     "metadata": {},
     "output_type": "execute_result"
    }
   ],
   "source": [
    "df.head()"
   ]
  },
  {
   "cell_type": "code",
   "execution_count": 14,
   "id": "7dec2aa5",
   "metadata": {},
   "outputs": [
    {
     "data": {
      "text/plain": [
       "(614, 13)"
      ]
     },
     "execution_count": 14,
     "metadata": {},
     "output_type": "execute_result"
    }
   ],
   "source": [
    "df.shape"
   ]
  },
  {
   "cell_type": "code",
   "execution_count": 15,
   "id": "32b46a72",
   "metadata": {},
   "outputs": [],
   "source": [
    "df = clean_missing_data(df)"
   ]
  },
  {
   "cell_type": "code",
   "execution_count": 16,
   "id": "ff445e30",
   "metadata": {},
   "outputs": [],
   "source": [
    "X,Y = preprocessing(df)"
   ]
  },
  {
   "cell_type": "markdown",
   "id": "6e07b2c6",
   "metadata": {},
   "source": [
    "### Model Training"
   ]
  },
  {
   "cell_type": "code",
   "execution_count": 17,
   "id": "e79c3374",
   "metadata": {},
   "outputs": [
    {
     "name": "stderr",
     "output_type": "stream",
     "text": [
      "/mnt/batch/tasks/shared/LS_root/mounts/clusters/azure-compute01/code/Model_Preparation.py:61: DataConversionWarning: A column-vector y was passed when a 1d array was expected. Please change the shape of y to (n_samples,), for example using ravel().\n",
      "  model = rfc.fit(X_train, Y_train)\n"
     ]
    }
   ],
   "source": [
    "model,Confusion_Matrix,Score = train(X,Y)"
   ]
  },
  {
   "cell_type": "markdown",
   "id": "86ec75f5",
   "metadata": {},
   "source": [
    "### Saving the model"
   ]
  },
  {
   "cell_type": "code",
   "execution_count": 18,
   "id": "c3a6b0d8",
   "metadata": {},
   "outputs": [
    {
     "data": {
      "text/plain": [
       "['outputs/RandomForest.pkl']"
      ]
     },
     "execution_count": 18,
     "metadata": {},
     "output_type": "execute_result"
    }
   ],
   "source": [
    "os.makedirs('outputs', exist_ok=True)\n",
    "path = os.path.join('outputs',model_name)\n",
    "joblib.dump(value=[model],\n",
    "            filename=path)"
   ]
  },
  {
   "cell_type": "markdown",
   "id": "96563fdc",
   "metadata": {},
   "source": [
    "### Logging the Experiment"
   ]
  },
  {
   "cell_type": "code",
   "execution_count": 19,
   "id": "1c94e3f3",
   "metadata": {},
   "outputs": [],
   "source": [
    "cm_dict = {\"schema_type\": \"confusion_matrix\",\n",
    "           \"schema_version\": \"v1\",\n",
    "           \"data\": {\"class_labels\": [\"N\", \"Y\"],\n",
    "                    \"matrix\": Confusion_Matrix.tolist()}\n",
    "           }"
   ]
  },
  {
   "cell_type": "code",
   "execution_count": 20,
   "id": "65127466",
   "metadata": {},
   "outputs": [],
   "source": [
    "# Starting the Experiment\n",
    "run = experiment.start_logging()"
   ]
  },
  {
   "cell_type": "code",
   "execution_count": 21,
   "id": "ab961a9f",
   "metadata": {},
   "outputs": [],
   "source": [
    "\n",
    "\n",
    "run.log(\"TotalObservations\", len(X))\n",
    "run.log_confusion_matrix(\"ConfusionMatrix\", cm_dict)\n",
    "run.log(\"Score\", Score)\n"
   ]
  },
  {
   "cell_type": "code",
   "execution_count": 22,
   "id": "db74cdb4",
   "metadata": {},
   "outputs": [],
   "source": [
    "run.complete()"
   ]
  },
  {
   "cell_type": "markdown",
   "id": "b72cdfbb",
   "metadata": {},
   "source": [
    "### Model Registration"
   ]
  },
  {
   "cell_type": "code",
   "execution_count": 23,
   "id": "da69a351",
   "metadata": {},
   "outputs": [
    {
     "name": "stdout",
     "output_type": "stream",
     "text": [
      "Registering model loan-prediction-model\n"
     ]
    }
   ],
   "source": [
    "from azureml.core.model import Model\n",
    "\n",
    "model = Model.register(workspace=ws, model_path= 'outputs/RandomForest.pkl', model_name=\"loan-prediction-model\",tags = {\"version\": \"1\"},\n",
    "              description = \"Loan Classification\")"
   ]
  },
  {
   "cell_type": "code",
   "execution_count": null,
   "id": "3b6a744a",
   "metadata": {},
   "outputs": [],
   "source": []
  },
  {
   "cell_type": "code",
   "execution_count": null,
   "id": "2ab40a96",
   "metadata": {},
   "outputs": [],
   "source": []
  },
  {
   "cell_type": "code",
   "execution_count": null,
   "id": "126cab72",
   "metadata": {},
   "outputs": [],
   "source": []
  }
 ],
 "metadata": {
  "kernelspec": {
   "display_name": "Python 3.6 - AzureML",
   "language": "python",
   "name": "python3-azureml"
  },
  "language_info": {
   "codemirror_mode": {
    "name": "ipython",
    "version": 3
   },
   "file_extension": ".py",
   "mimetype": "text/x-python",
   "name": "python",
   "nbconvert_exporter": "python",
   "pygments_lexer": "ipython3",
   "version": "3.6.9"
  }
 },
 "nbformat": 4,
 "nbformat_minor": 5
}
