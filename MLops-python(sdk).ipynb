{
 "cells": [
  {
   "cell_type": "code",
   "execution_count": 1,
   "id": "2f072cf0",
   "metadata": {},
   "outputs": [],
   "source": [
    "from azureml.core import Workspace, Datastore, Dataset,Experiment\n",
    "import pandas as pd\n",
    "from sklearn.preprocessing import MinMaxScaler"
   ]
  },
  {
   "cell_type": "code",
   "execution_count": 2,
   "id": "5c24fad3",
   "metadata": {},
   "outputs": [],
   "source": [
    "# Accessing the ml workspace\n",
    "ws = Workspace.from_config(path=\"./config\")\n",
    "# Accessing datastore\n",
    "az_store = Datastore.get(ws, \"azuremlds01\")"
   ]
  },
  {
   "cell_type": "code",
   "execution_count": 3,
   "id": "11c69f9f",
   "metadata": {},
   "outputs": [],
   "source": [
    "# Path for data\n",
    "csv_path = [(az_store, \"Loan+Approval+Prediction.csv\")]\n",
    "loan_dataset = Dataset.Tabular.from_delimited_files(path=csv_path)\n",
    "# Register the dataset\n",
    "loan_dataset = loan_dataset.register(workspace=ws,\n",
    "                                     name=\"Loan Applications Using SDK\",\n",
    "                                     create_new_version=True)\n",
    "\n",
    "df = loan_dataset.to_pandas_dataframe()"
   ]
  },
  {
   "cell_type": "code",
   "execution_count": 5,
   "id": "edda356f",
   "metadata": {},
   "outputs": [],
   "source": [
    "# Creating Experiment\n",
    "experiment = Experiment(workspace = ws, name = 'Loan-sdk-Exp01')"
   ]
  },
  {
   "cell_type": "code",
   "execution_count": 6,
   "id": "37ec42e7",
   "metadata": {},
   "outputs": [],
   "source": [
    "# Starting the Experiment\n",
    "new_run = experiment.start_logging()"
   ]
  },
  {
   "cell_type": "code",
   "execution_count": 7,
   "id": "6bf5e0ad",
   "metadata": {},
   "outputs": [],
   "source": [
    "loan = df.copy()"
   ]
  },
  {
   "cell_type": "code",
   "execution_count": 8,
   "id": "e88d3661",
   "metadata": {},
   "outputs": [
    {
     "data": {
      "text/plain": [
       "Loan_ID               object\n",
       "Gender                object\n",
       "Married               object\n",
       "Dependents            object\n",
       "Education             object\n",
       "Self_Employed         object\n",
       "ApplicantIncome        int64\n",
       "CoapplicantIncome    float64\n",
       "LoanAmount           float64\n",
       "Loan_Amount_Term     float64\n",
       "Credit_History       float64\n",
       "Property_Area         object\n",
       "Loan_Status             bool\n",
       "dtype: object"
      ]
     },
     "execution_count": 8,
     "metadata": {},
     "output_type": "execute_result"
    }
   ],
   "source": [
    "loan.dtypes"
   ]
  },
  {
   "cell_type": "code",
   "execution_count": 9,
   "id": "4c2d4708",
   "metadata": {},
   "outputs": [],
   "source": [
    "total_observation = len(loan)\n",
    "null_df = loan.isnull().sum()"
   ]
  },
  {
   "cell_type": "code",
   "execution_count": 10,
   "id": "931d9e03",
   "metadata": {},
   "outputs": [],
   "source": [
    "new_run.log(\"Total Observations\",total_observation)\n",
    "for col in loan.columns:\n",
    "    new_run.log(col, null_df[col])"
   ]
  },
  {
   "cell_type": "code",
   "execution_count": 11,
   "id": "e6c43009",
   "metadata": {},
   "outputs": [
    {
     "data": {
      "text/plain": [
       "Loan_ID               0\n",
       "Gender               13\n",
       "Married               3\n",
       "Dependents           15\n",
       "Education             0\n",
       "Self_Employed        32\n",
       "ApplicantIncome       0\n",
       "CoapplicantIncome     2\n",
       "LoanAmount           22\n",
       "Loan_Amount_Term     14\n",
       "Credit_History       50\n",
       "Property_Area         0\n",
       "Loan_Status           0\n",
       "dtype: int64"
      ]
     },
     "execution_count": 11,
     "metadata": {},
     "output_type": "execute_result"
    }
   ],
   "source": [
    "loan.isnull().sum()"
   ]
  },
  {
   "cell_type": "code",
   "execution_count": 12,
   "id": "c85fc5ce",
   "metadata": {},
   "outputs": [
    {
     "data": {
      "text/plain": [
       "(614, 13)"
      ]
     },
     "execution_count": 12,
     "metadata": {},
     "output_type": "execute_result"
    }
   ],
   "source": [
    "loan.shape"
   ]
  },
  {
   "cell_type": "code",
   "execution_count": 13,
   "id": "ffb26118",
   "metadata": {},
   "outputs": [],
   "source": [
    "X = loan.drop(['Loan_Status'],axis=1)\n",
    "y = loan[['Loan_Status']]"
   ]
  },
  {
   "cell_type": "code",
   "execution_count": 14,
   "id": "079b3280",
   "metadata": {},
   "outputs": [
    {
     "data": {
      "text/plain": [
       "((614, 12), (614, 1))"
      ]
     },
     "execution_count": 14,
     "metadata": {},
     "output_type": "execute_result"
    }
   ],
   "source": [
    "X.shape , y.shape"
   ]
  },
  {
   "cell_type": "code",
   "execution_count": 15,
   "id": "0ec82e25",
   "metadata": {},
   "outputs": [],
   "source": [
    "def clean_missing_data(df):\n",
    "    df.drop(['Loan_ID','Gender','Property_Area'],axis=1,inplace=True)\n",
    "    numerical_col = df.select_dtypes(include = ['number']).columns\n",
    "    categorical_col = df.select_dtypes(include = ['object','category','bool']).columns\n",
    "    for i in numerical_col:\n",
    "        df[i] = df[i].fillna(df[i].mean())\n",
    "    for j in categorical_col:\n",
    "        df[j] = df[j].fillna(df[j].mode()[0])\n",
    "        \n",
    "    return df\n",
    "    \n",
    "    "
   ]
  },
  {
   "cell_type": "code",
   "execution_count": 16,
   "id": "118b7e59",
   "metadata": {},
   "outputs": [
    {
     "data": {
      "text/html": [
       "<div>\n",
       "<style scoped>\n",
       "    .dataframe tbody tr th:only-of-type {\n",
       "        vertical-align: middle;\n",
       "    }\n",
       "\n",
       "    .dataframe tbody tr th {\n",
       "        vertical-align: top;\n",
       "    }\n",
       "\n",
       "    .dataframe thead th {\n",
       "        text-align: right;\n",
       "    }\n",
       "</style>\n",
       "<table border=\"1\" class=\"dataframe\">\n",
       "  <thead>\n",
       "    <tr style=\"text-align: right;\">\n",
       "      <th></th>\n",
       "      <th>Married</th>\n",
       "      <th>Dependents</th>\n",
       "      <th>Education</th>\n",
       "      <th>Self_Employed</th>\n",
       "      <th>ApplicantIncome</th>\n",
       "      <th>CoapplicantIncome</th>\n",
       "      <th>LoanAmount</th>\n",
       "      <th>Loan_Amount_Term</th>\n",
       "      <th>Credit_History</th>\n",
       "    </tr>\n",
       "  </thead>\n",
       "  <tbody>\n",
       "    <tr>\n",
       "      <th>0</th>\n",
       "      <td>False</td>\n",
       "      <td>0</td>\n",
       "      <td>Graduate</td>\n",
       "      <td>False</td>\n",
       "      <td>5849</td>\n",
       "      <td>0.0</td>\n",
       "      <td>146.412162</td>\n",
       "      <td>360.0</td>\n",
       "      <td>1.0</td>\n",
       "    </tr>\n",
       "    <tr>\n",
       "      <th>1</th>\n",
       "      <td>True</td>\n",
       "      <td>1</td>\n",
       "      <td>Graduate</td>\n",
       "      <td>False</td>\n",
       "      <td>4583</td>\n",
       "      <td>1508.0</td>\n",
       "      <td>128.000000</td>\n",
       "      <td>360.0</td>\n",
       "      <td>1.0</td>\n",
       "    </tr>\n",
       "    <tr>\n",
       "      <th>2</th>\n",
       "      <td>True</td>\n",
       "      <td>0</td>\n",
       "      <td>Graduate</td>\n",
       "      <td>True</td>\n",
       "      <td>3000</td>\n",
       "      <td>0.0</td>\n",
       "      <td>66.000000</td>\n",
       "      <td>360.0</td>\n",
       "      <td>1.0</td>\n",
       "    </tr>\n",
       "    <tr>\n",
       "      <th>3</th>\n",
       "      <td>True</td>\n",
       "      <td>0</td>\n",
       "      <td>Not Graduate</td>\n",
       "      <td>False</td>\n",
       "      <td>2583</td>\n",
       "      <td>2358.0</td>\n",
       "      <td>120.000000</td>\n",
       "      <td>360.0</td>\n",
       "      <td>1.0</td>\n",
       "    </tr>\n",
       "    <tr>\n",
       "      <th>4</th>\n",
       "      <td>False</td>\n",
       "      <td>0</td>\n",
       "      <td>Graduate</td>\n",
       "      <td>False</td>\n",
       "      <td>6000</td>\n",
       "      <td>0.0</td>\n",
       "      <td>141.000000</td>\n",
       "      <td>360.0</td>\n",
       "      <td>1.0</td>\n",
       "    </tr>\n",
       "    <tr>\n",
       "      <th>...</th>\n",
       "      <td>...</td>\n",
       "      <td>...</td>\n",
       "      <td>...</td>\n",
       "      <td>...</td>\n",
       "      <td>...</td>\n",
       "      <td>...</td>\n",
       "      <td>...</td>\n",
       "      <td>...</td>\n",
       "      <td>...</td>\n",
       "    </tr>\n",
       "    <tr>\n",
       "      <th>609</th>\n",
       "      <td>False</td>\n",
       "      <td>0</td>\n",
       "      <td>Graduate</td>\n",
       "      <td>False</td>\n",
       "      <td>2900</td>\n",
       "      <td>0.0</td>\n",
       "      <td>71.000000</td>\n",
       "      <td>360.0</td>\n",
       "      <td>1.0</td>\n",
       "    </tr>\n",
       "    <tr>\n",
       "      <th>610</th>\n",
       "      <td>True</td>\n",
       "      <td>3+</td>\n",
       "      <td>Graduate</td>\n",
       "      <td>False</td>\n",
       "      <td>4106</td>\n",
       "      <td>0.0</td>\n",
       "      <td>40.000000</td>\n",
       "      <td>180.0</td>\n",
       "      <td>1.0</td>\n",
       "    </tr>\n",
       "    <tr>\n",
       "      <th>611</th>\n",
       "      <td>True</td>\n",
       "      <td>1</td>\n",
       "      <td>Graduate</td>\n",
       "      <td>False</td>\n",
       "      <td>8072</td>\n",
       "      <td>240.0</td>\n",
       "      <td>253.000000</td>\n",
       "      <td>360.0</td>\n",
       "      <td>1.0</td>\n",
       "    </tr>\n",
       "    <tr>\n",
       "      <th>612</th>\n",
       "      <td>True</td>\n",
       "      <td>2</td>\n",
       "      <td>Graduate</td>\n",
       "      <td>False</td>\n",
       "      <td>7583</td>\n",
       "      <td>0.0</td>\n",
       "      <td>187.000000</td>\n",
       "      <td>360.0</td>\n",
       "      <td>1.0</td>\n",
       "    </tr>\n",
       "    <tr>\n",
       "      <th>613</th>\n",
       "      <td>False</td>\n",
       "      <td>0</td>\n",
       "      <td>Graduate</td>\n",
       "      <td>True</td>\n",
       "      <td>4583</td>\n",
       "      <td>0.0</td>\n",
       "      <td>133.000000</td>\n",
       "      <td>360.0</td>\n",
       "      <td>0.0</td>\n",
       "    </tr>\n",
       "  </tbody>\n",
       "</table>\n",
       "<p>614 rows × 9 columns</p>\n",
       "</div>"
      ],
      "text/plain": [
       "     Married Dependents     Education  Self_Employed  ApplicantIncome  \\\n",
       "0      False          0      Graduate          False             5849   \n",
       "1       True          1      Graduate          False             4583   \n",
       "2       True          0      Graduate           True             3000   \n",
       "3       True          0  Not Graduate          False             2583   \n",
       "4      False          0      Graduate          False             6000   \n",
       "..       ...        ...           ...            ...              ...   \n",
       "609    False          0      Graduate          False             2900   \n",
       "610     True         3+      Graduate          False             4106   \n",
       "611     True          1      Graduate          False             8072   \n",
       "612     True          2      Graduate          False             7583   \n",
       "613    False          0      Graduate           True             4583   \n",
       "\n",
       "     CoapplicantIncome  LoanAmount  Loan_Amount_Term  Credit_History  \n",
       "0                  0.0  146.412162             360.0             1.0  \n",
       "1               1508.0  128.000000             360.0             1.0  \n",
       "2                  0.0   66.000000             360.0             1.0  \n",
       "3               2358.0  120.000000             360.0             1.0  \n",
       "4                  0.0  141.000000             360.0             1.0  \n",
       "..                 ...         ...               ...             ...  \n",
       "609                0.0   71.000000             360.0             1.0  \n",
       "610                0.0   40.000000             180.0             1.0  \n",
       "611              240.0  253.000000             360.0             1.0  \n",
       "612                0.0  187.000000             360.0             1.0  \n",
       "613                0.0  133.000000             360.0             0.0  \n",
       "\n",
       "[614 rows x 9 columns]"
      ]
     },
     "execution_count": 16,
     "metadata": {},
     "output_type": "execute_result"
    }
   ],
   "source": [
    "X = clean_missing_data(X)\n",
    "X"
   ]
  },
  {
   "cell_type": "code",
   "execution_count": 17,
   "id": "84b7f1f6",
   "metadata": {},
   "outputs": [
    {
     "data": {
      "text/plain": [
       "Married              0\n",
       "Dependents           0\n",
       "Education            0\n",
       "Self_Employed        0\n",
       "ApplicantIncome      0\n",
       "CoapplicantIncome    0\n",
       "LoanAmount           0\n",
       "Loan_Amount_Term     0\n",
       "Credit_History       0\n",
       "dtype: int64"
      ]
     },
     "execution_count": 17,
     "metadata": {},
     "output_type": "execute_result"
    }
   ],
   "source": [
    "X.isnull().sum()"
   ]
  },
  {
   "cell_type": "code",
   "execution_count": 18,
   "id": "312f0723",
   "metadata": {},
   "outputs": [],
   "source": [
    "def preprocessing(df):\n",
    "    \n",
    "    num_col = df.select_dtypes(include=['number']).columns\n",
    "    cat_col = df.select_dtypes(include = ['object','bool','category']).columns\n",
    "    scaler = MinMaxScaler()\n",
    "    scaler_fitted = scaler.fit(df[num_col])\n",
    "    df[num_col] = scaler_fitted.transform(df[num_col])\n",
    "    \n",
    "    df = pd.get_dummies(df,columns = cat_col,drop_first = True)\n",
    "    \n",
    "    return df"
   ]
  },
  {
   "cell_type": "code",
   "execution_count": 19,
   "id": "e6f87cce",
   "metadata": {},
   "outputs": [],
   "source": [
    "X = preprocessing(X)"
   ]
  },
  {
   "cell_type": "code",
   "execution_count": 20,
   "id": "07b04b80",
   "metadata": {},
   "outputs": [
    {
     "data": {
      "text/html": [
       "<div>\n",
       "<style scoped>\n",
       "    .dataframe tbody tr th:only-of-type {\n",
       "        vertical-align: middle;\n",
       "    }\n",
       "\n",
       "    .dataframe tbody tr th {\n",
       "        vertical-align: top;\n",
       "    }\n",
       "\n",
       "    .dataframe thead th {\n",
       "        text-align: right;\n",
       "    }\n",
       "</style>\n",
       "<table border=\"1\" class=\"dataframe\">\n",
       "  <thead>\n",
       "    <tr style=\"text-align: right;\">\n",
       "      <th></th>\n",
       "      <th>ApplicantIncome</th>\n",
       "      <th>CoapplicantIncome</th>\n",
       "      <th>LoanAmount</th>\n",
       "      <th>Loan_Amount_Term</th>\n",
       "      <th>Credit_History</th>\n",
       "      <th>Married_True</th>\n",
       "      <th>Dependents_1</th>\n",
       "      <th>Dependents_2</th>\n",
       "      <th>Dependents_3+</th>\n",
       "      <th>Education_Not Graduate</th>\n",
       "      <th>Self_Employed_True</th>\n",
       "    </tr>\n",
       "  </thead>\n",
       "  <tbody>\n",
       "    <tr>\n",
       "      <th>0</th>\n",
       "      <td>0.070489</td>\n",
       "      <td>0.000000</td>\n",
       "      <td>0.198860</td>\n",
       "      <td>0.743590</td>\n",
       "      <td>1.0</td>\n",
       "      <td>0</td>\n",
       "      <td>0</td>\n",
       "      <td>0</td>\n",
       "      <td>0</td>\n",
       "      <td>0</td>\n",
       "      <td>0</td>\n",
       "    </tr>\n",
       "    <tr>\n",
       "      <th>1</th>\n",
       "      <td>0.054830</td>\n",
       "      <td>0.036192</td>\n",
       "      <td>0.172214</td>\n",
       "      <td>0.743590</td>\n",
       "      <td>1.0</td>\n",
       "      <td>1</td>\n",
       "      <td>1</td>\n",
       "      <td>0</td>\n",
       "      <td>0</td>\n",
       "      <td>0</td>\n",
       "      <td>0</td>\n",
       "    </tr>\n",
       "    <tr>\n",
       "      <th>2</th>\n",
       "      <td>0.035250</td>\n",
       "      <td>0.000000</td>\n",
       "      <td>0.082489</td>\n",
       "      <td>0.743590</td>\n",
       "      <td>1.0</td>\n",
       "      <td>1</td>\n",
       "      <td>0</td>\n",
       "      <td>0</td>\n",
       "      <td>0</td>\n",
       "      <td>0</td>\n",
       "      <td>1</td>\n",
       "    </tr>\n",
       "    <tr>\n",
       "      <th>3</th>\n",
       "      <td>0.030093</td>\n",
       "      <td>0.056592</td>\n",
       "      <td>0.160637</td>\n",
       "      <td>0.743590</td>\n",
       "      <td>1.0</td>\n",
       "      <td>1</td>\n",
       "      <td>0</td>\n",
       "      <td>0</td>\n",
       "      <td>0</td>\n",
       "      <td>1</td>\n",
       "      <td>0</td>\n",
       "    </tr>\n",
       "    <tr>\n",
       "      <th>4</th>\n",
       "      <td>0.072356</td>\n",
       "      <td>0.000000</td>\n",
       "      <td>0.191027</td>\n",
       "      <td>0.743590</td>\n",
       "      <td>1.0</td>\n",
       "      <td>0</td>\n",
       "      <td>0</td>\n",
       "      <td>0</td>\n",
       "      <td>0</td>\n",
       "      <td>0</td>\n",
       "      <td>0</td>\n",
       "    </tr>\n",
       "    <tr>\n",
       "      <th>...</th>\n",
       "      <td>...</td>\n",
       "      <td>...</td>\n",
       "      <td>...</td>\n",
       "      <td>...</td>\n",
       "      <td>...</td>\n",
       "      <td>...</td>\n",
       "      <td>...</td>\n",
       "      <td>...</td>\n",
       "      <td>...</td>\n",
       "      <td>...</td>\n",
       "      <td>...</td>\n",
       "    </tr>\n",
       "    <tr>\n",
       "      <th>609</th>\n",
       "      <td>0.034014</td>\n",
       "      <td>0.000000</td>\n",
       "      <td>0.089725</td>\n",
       "      <td>0.743590</td>\n",
       "      <td>1.0</td>\n",
       "      <td>0</td>\n",
       "      <td>0</td>\n",
       "      <td>0</td>\n",
       "      <td>0</td>\n",
       "      <td>0</td>\n",
       "      <td>0</td>\n",
       "    </tr>\n",
       "    <tr>\n",
       "      <th>610</th>\n",
       "      <td>0.048930</td>\n",
       "      <td>0.000000</td>\n",
       "      <td>0.044863</td>\n",
       "      <td>0.358974</td>\n",
       "      <td>1.0</td>\n",
       "      <td>1</td>\n",
       "      <td>0</td>\n",
       "      <td>0</td>\n",
       "      <td>1</td>\n",
       "      <td>0</td>\n",
       "      <td>0</td>\n",
       "    </tr>\n",
       "    <tr>\n",
       "      <th>611</th>\n",
       "      <td>0.097984</td>\n",
       "      <td>0.005760</td>\n",
       "      <td>0.353111</td>\n",
       "      <td>0.743590</td>\n",
       "      <td>1.0</td>\n",
       "      <td>1</td>\n",
       "      <td>1</td>\n",
       "      <td>0</td>\n",
       "      <td>0</td>\n",
       "      <td>0</td>\n",
       "      <td>0</td>\n",
       "    </tr>\n",
       "    <tr>\n",
       "      <th>612</th>\n",
       "      <td>0.091936</td>\n",
       "      <td>0.000000</td>\n",
       "      <td>0.257598</td>\n",
       "      <td>0.743590</td>\n",
       "      <td>1.0</td>\n",
       "      <td>1</td>\n",
       "      <td>0</td>\n",
       "      <td>1</td>\n",
       "      <td>0</td>\n",
       "      <td>0</td>\n",
       "      <td>0</td>\n",
       "    </tr>\n",
       "    <tr>\n",
       "      <th>613</th>\n",
       "      <td>0.054830</td>\n",
       "      <td>0.000000</td>\n",
       "      <td>0.179450</td>\n",
       "      <td>0.743590</td>\n",
       "      <td>0.0</td>\n",
       "      <td>0</td>\n",
       "      <td>0</td>\n",
       "      <td>0</td>\n",
       "      <td>0</td>\n",
       "      <td>0</td>\n",
       "      <td>1</td>\n",
       "    </tr>\n",
       "  </tbody>\n",
       "</table>\n",
       "<p>614 rows × 11 columns</p>\n",
       "</div>"
      ],
      "text/plain": [
       "     ApplicantIncome  CoapplicantIncome  LoanAmount  Loan_Amount_Term  \\\n",
       "0           0.070489           0.000000    0.198860          0.743590   \n",
       "1           0.054830           0.036192    0.172214          0.743590   \n",
       "2           0.035250           0.000000    0.082489          0.743590   \n",
       "3           0.030093           0.056592    0.160637          0.743590   \n",
       "4           0.072356           0.000000    0.191027          0.743590   \n",
       "..               ...                ...         ...               ...   \n",
       "609         0.034014           0.000000    0.089725          0.743590   \n",
       "610         0.048930           0.000000    0.044863          0.358974   \n",
       "611         0.097984           0.005760    0.353111          0.743590   \n",
       "612         0.091936           0.000000    0.257598          0.743590   \n",
       "613         0.054830           0.000000    0.179450          0.743590   \n",
       "\n",
       "     Credit_History  Married_True  Dependents_1  Dependents_2  Dependents_3+  \\\n",
       "0               1.0             0             0             0              0   \n",
       "1               1.0             1             1             0              0   \n",
       "2               1.0             1             0             0              0   \n",
       "3               1.0             1             0             0              0   \n",
       "4               1.0             0             0             0              0   \n",
       "..              ...           ...           ...           ...            ...   \n",
       "609             1.0             0             0             0              0   \n",
       "610             1.0             1             0             0              1   \n",
       "611             1.0             1             1             0              0   \n",
       "612             1.0             1             0             1              0   \n",
       "613             0.0             0             0             0              0   \n",
       "\n",
       "     Education_Not Graduate  Self_Employed_True  \n",
       "0                         0                   0  \n",
       "1                         0                   0  \n",
       "2                         0                   1  \n",
       "3                         1                   0  \n",
       "4                         0                   0  \n",
       "..                      ...                 ...  \n",
       "609                       0                   0  \n",
       "610                       0                   0  \n",
       "611                       0                   0  \n",
       "612                       0                   0  \n",
       "613                       0                   1  \n",
       "\n",
       "[614 rows x 11 columns]"
      ]
     },
     "execution_count": 20,
     "metadata": {},
     "output_type": "execute_result"
    }
   ],
   "source": [
    "X"
   ]
  },
  {
   "cell_type": "code",
   "execution_count": 21,
   "id": "b12027c5",
   "metadata": {},
   "outputs": [],
   "source": [
    "from sklearn.model_selection import train_test_split"
   ]
  },
  {
   "cell_type": "code",
   "execution_count": 24,
   "id": "f4d0f2bd",
   "metadata": {},
   "outputs": [],
   "source": [
    "X_train, X_test, Y_train, Y_test = train_test_split(X, y, test_size = 0.3, random_state = 1234, stratify=y)\n"
   ]
  },
  {
   "cell_type": "code",
   "execution_count": 25,
   "id": "9a8996b1",
   "metadata": {},
   "outputs": [],
   "source": [
    "from sklearn.ensemble import RandomForestClassifier"
   ]
  },
  {
   "cell_type": "code",
   "execution_count": 26,
   "id": "d0b0da25",
   "metadata": {},
   "outputs": [
    {
     "name": "stderr",
     "output_type": "stream",
     "text": [
      "/anaconda/envs/azureml_py36/lib/python3.6/site-packages/ipykernel_launcher.py:2: DataConversionWarning: A column-vector y was passed when a 1d array was expected. Please change the shape of y to (n_samples,), for example using ravel().\n",
      "  \n"
     ]
    }
   ],
   "source": [
    "rfc = RandomForestClassifier(random_state=123)\n",
    "trained_model = rfc.fit(X_train, Y_train)\n",
    "Y_predict = rfc.predict(X_test)"
   ]
  },
  {
   "cell_type": "code",
   "execution_count": 27,
   "id": "6d91ef56",
   "metadata": {},
   "outputs": [],
   "source": [
    "Y_prob = rfc.predict_proba(X_test)[:, 1]"
   ]
  },
  {
   "cell_type": "code",
   "execution_count": 28,
   "id": "c9ae71ef",
   "metadata": {},
   "outputs": [],
   "source": [
    "from sklearn.metrics import confusion_matrix\n",
    "cm    = confusion_matrix(Y_test, Y_predict)\n",
    "score = rfc.score(X_test, Y_test)"
   ]
  },
  {
   "cell_type": "code",
   "execution_count": 29,
   "id": "eba540da",
   "metadata": {},
   "outputs": [],
   "source": [
    "new_run.log(\"accuracy\", score)"
   ]
  },
  {
   "cell_type": "code",
   "execution_count": 30,
   "id": "d95e7739",
   "metadata": {},
   "outputs": [],
   "source": [
    "train_enc_cols = X.columns"
   ]
  },
  {
   "cell_type": "code",
   "execution_count": 31,
   "id": "c9c7bbaf",
   "metadata": {},
   "outputs": [
    {
     "data": {
      "text/plain": [
       "['./outputs/models.pkl']"
      ]
     },
     "execution_count": 31,
     "metadata": {},
     "output_type": "execute_result"
    }
   ],
   "source": [
    "import joblib\n",
    "model_file = './outputs/models.pkl'\n",
    "\n",
    "joblib.dump(value=[train_enc_cols, trained_model], \n",
    "            filename=model_file)"
   ]
  },
  {
   "cell_type": "code",
   "execution_count": 32,
   "id": "f88b21e5",
   "metadata": {},
   "outputs": [],
   "source": [
    "# Complete the run\n",
    "new_run.complete()"
   ]
  },
  {
   "cell_type": "code",
   "execution_count": 33,
   "id": "2b1aca74",
   "metadata": {},
   "outputs": [
    {
     "data": {
      "text/plain": [
       "[Run(Experiment: Loan-sdk-Exp01,\n",
       " Id: ba0ebbdf-e6ea-475b-b2a4-8479a596cf87,\n",
       " Type: None,\n",
       " Status: Completed),\n",
       " Run(Experiment: Loan-sdk-Exp01,\n",
       " Id: 0d4617f7-e535-4339-a7a6-9a04f9f09750,\n",
       " Type: None,\n",
       " Status: Running),\n",
       " Run(Experiment: Loan-sdk-Exp01,\n",
       " Id: 1b18bc23-9cf7-4a05-b044-6747ec055141,\n",
       " Type: None,\n",
       " Status: Running),\n",
       " Run(Experiment: Loan-sdk-Exp01,\n",
       " Id: 6ee16aec-23dd-4db5-95ac-0e107a235332,\n",
       " Type: None,\n",
       " Status: Running),\n",
       " Run(Experiment: Loan-sdk-Exp01,\n",
       " Id: 446f30e7-d72b-47a6-aac9-b339ac91164c,\n",
       " Type: None,\n",
       " Status: Running),\n",
       " Run(Experiment: Loan-sdk-Exp01,\n",
       " Id: 23d57c47-8a23-4f86-8466-9445efee9bd7,\n",
       " Type: None,\n",
       " Status: Running),\n",
       " Run(Experiment: Loan-sdk-Exp01,\n",
       " Id: bbcbafd6-add2-43ee-8bf0-15bfb2ab328c,\n",
       " Type: None,\n",
       " Status: Running),\n",
       " Run(Experiment: Loan-sdk-Exp01,\n",
       " Id: 2743cb9f-7e14-4e88-8222-ccbb47426b4c,\n",
       " Type: None,\n",
       " Status: Running),\n",
       " Run(Experiment: Loan-sdk-Exp01,\n",
       " Id: 3aea2eae-60d7-4c26-9726-12ad480f5a7c,\n",
       " Type: None,\n",
       " Status: Running),\n",
       " Run(Experiment: Loan-sdk-Exp01,\n",
       " Id: 9bef28ce-6721-45cd-b71b-28cf3be8eae9,\n",
       " Type: None,\n",
       " Status: Running),\n",
       " Run(Experiment: Loan-sdk-Exp01,\n",
       " Id: 0008b197-609f-4e17-8275-131660cbb203,\n",
       " Type: None,\n",
       " Status: Running),\n",
       " Run(Experiment: Loan-sdk-Exp01,\n",
       " Id: 4300dcc7-1adc-4e5e-8921-eacb3f58d93d,\n",
       " Type: None,\n",
       " Status: Running),\n",
       " Run(Experiment: Loan-sdk-Exp01,\n",
       " Id: 6a42bc96-79f7-47d4-99d4-c6af73abf6d7,\n",
       " Type: None,\n",
       " Status: Running),\n",
       " Run(Experiment: Loan-sdk-Exp01,\n",
       " Id: e87ec550-1864-485e-9c44-f513a2440554,\n",
       " Type: None,\n",
       " Status: Running)]"
      ]
     },
     "execution_count": 33,
     "metadata": {},
     "output_type": "execute_result"
    }
   ],
   "source": [
    "# Get the Run IDs from the experiment\n",
    "list(experiment.get_runs())\n"
   ]
  },
  {
   "cell_type": "code",
   "execution_count": null,
   "id": "c83e1ee5",
   "metadata": {},
   "outputs": [],
   "source": []
  }
 ],
 "metadata": {
  "kernel_info": {
   "name": "python3-azureml"
  },
  "kernelspec": {
   "display_name": "Python 3.6 - AzureML",
   "language": "python",
   "name": "python3-azureml"
  },
  "language_info": {
   "codemirror_mode": {
    "name": "ipython",
    "version": 3
   },
   "file_extension": ".py",
   "mimetype": "text/x-python",
   "name": "python",
   "nbconvert_exporter": "python",
   "pygments_lexer": "ipython3",
   "version": "3.6.9"
  },
  "nteract": {
   "version": "nteract-front-end@1.0.0"
  }
 },
 "nbformat": 4,
 "nbformat_minor": 5
}
